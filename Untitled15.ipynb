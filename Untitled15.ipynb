{
 "cells": [
  {
   "cell_type": "markdown",
   "id": "acf1487e",
   "metadata": {},
   "source": [
    "<center> <h1> <font color='orange'> PYTHON EXAM <font> </h1> </center>"
   ]
  },
  {
   "cell_type": "markdown",
   "id": "6e9577c1",
   "metadata": {},
   "source": [
    "<h2><font color='blue'> NAME: GOLNOOSH TOOSI </font></h2>"
   ]
  },
  {
   "cell_type": "markdown",
   "id": "87911bf8",
   "metadata": {},
   "source": [
    "<h2><font color='blue'> LU# : 20558659 </font></h2>"
   ]
  },
  {
   "cell_type": "markdown",
   "id": "7b823872",
   "metadata": {},
   "source": [
    "<h3><font color='RED'>QUESTION NUMBER 3  </font></h3>"
   ]
  },
  {
   "cell_type": "code",
   "execution_count": null,
   "id": "44cc0caa",
   "metadata": {},
   "outputs": [],
   "source": [
    "import math  #import libraries\n",
    "def Qfinder (n, A, R , S): #define function and inputs\n",
    "    Q = 1.49 / n * A * math.pow(R , 2/3) * math.sqrt(S)  # function\n",
    "    return Q  \n",
    "# define the inputs\n",
    "S = 0.03\n",
    "n = 0.020\n",
    "#tan 4 eqaulls 1 then z equals 1\n",
    "A = b + 2 * y * math.sqrt(2))\n",
    "R = b * y + z * math.pow(y , 2)\n",
    "# call the function to calculate the answer\n",
    "Answer = Qfinder (n, A, R , S)"
   ]
  },
  {
   "cell_type": "markdown",
   "id": "0d618fa3",
   "metadata": {},
   "source": [
    "<h3><font color='RED'>QUESTION NUMBER 2  </font></h3>"
   ]
  },
  {
   "cell_type": "code",
   "execution_count": null,
   "id": "6fe24ba1",
   "metadata": {},
   "outputs": [],
   "source": [
    "import math\n",
    "def FofX (r , n): \n",
    "    FofX = (r - 0.44)/(n + 0.12)\n",
    "    return FofX  \n",
    "Answer = FofX (r , n)"
   ]
  },
  {
   "cell_type": "markdown",
   "id": "e1942b90",
   "metadata": {},
   "source": [
    "<h3><font color='RED'>QUESTION NUMBER 1  </font></h3>"
   ]
  },
  {
   "cell_type": "code",
   "execution_count": 1,
   "id": "4d4d25b4",
   "metadata": {},
   "outputs": [],
   "source": [
    "#In this question we have to make a 7 dimensional equation #with coefficients which is horizantal and vertical amount of forces\n",
    "# then we can solve the equation by guass seidel\n",
    "#importan point by this method is After arranging equations in diagonally dominant form,we can solve it by below code"
   ]
  },
  {
   "cell_type": "code",
   "execution_count": null,
   "id": "696aea91",
   "metadata": {},
   "outputs": [],
   "source": [
    "# as i didnt know much about this area i just got inspiration from below vide. I couldnt listen to it in the middle of exam\n",
    "# https://video.search.yahoo.com/yhs/search?fr=yhs-iba-syn_weatherprince&ei=UTF-8&hsimp=yhs-syn_weatherprince&hspart=iba&param2=9dUI1n2R0BLDxNuWfiP4aSFOTltNdSPoIx38%2BUf%2FiXrvPdoGmStdlfwLFZYDvqkAJrWWk4yNReCLnBD%2FqPsDZd7olTZcV8HMx1G%2Fk786sE2Tis1g8dJd8zxVWs%2BbKztBnq1TfqUiqPYK9pXifXmJFyorDuCsYXJE71Y6G5tfejCmMuX%2B4JRftb7FRQZYZJt5zllnNm6Ft6QSOi4wc8DVxB41FPCMB%2Fxn5ssuCidUYe4iRMUbR3%2FLt0u%2FiKV%2Fi8nN2gA%2BidrNlAke7ZRSPrLWog%3D%3D&param3=HpCyCT2cXaKG4CVDR00rqudfjEw4Sq6mEyH4z8L%2BmqiTxt7LxZY21Hl9zNlEVA3BXxFgNWiRX22HQOiMSVmOvq2B7r8jRWfbeJ5XGWQ3MV5ErFxphU9YXhBoEv5EfMCafIikZEemQguZbdLdWnjrDMJK7EUFr8merj6T4MZarDra5Ay0rn1hBGMfpqtoDiABJElgbBxOEHXhlxHw2%2BR5BPWoob3bQATHmLt7EQtH4dXM%2BMS%2Bg3Ku0yP8O8uEsaQrMf%2Fly0QV5GKjHpSSECH%2B%2FjMN%2FbI7lPvaT0Xr%2BXD4uwH5DmN10YbIJxTFcdOlGf%2F6hYl4jcczjY8GMMRl%2BqAPgA%3D%3D&p=matrix+method+truss+reaction&type=f2%3A%3B.6850610d4680680b2811f3dcdca6be379af%3B5.ac48569fc081a6a1b52a8ef8e64166f19c0ca9cdf89835745bb551d3fa4fa48f943097aefbfd184b31544c5aaf2ed391302b24f17#id=2&vid=486c8d406218dea01322ac41f1cb8c41&action=click"
   ]
  },
  {
   "cell_type": "code",
   "execution_count": 2,
   "id": "710e8f81",
   "metadata": {},
   "outputs": [
    {
     "data": {
      "text/plain": [
       "[[-0.7, -0.7, 0, 0, 0, 0, 0],\n",
       " [1, 0, 1, 0, 0, 0, 0],\n",
       " [-1, 0, 0, 0, 0.7, -0.7, 0],\n",
       " [0, 0, -1, 0, 0.86, 0.5, 0],\n",
       " [0, 0, -0.5, 0.86, 0, 0, -0.86],\n",
       " [0, 0, 0, 0, 0, 1, -1]]"
      ]
     },
     "execution_count": 2,
     "metadata": {},
     "output_type": "execute_result"
    }
   ],
   "source": [
    "#this is the matrix made for forces of each joint (F * cos angel) or (F * sin angel) \n",
    "# a should be arranged in diagonally dominant form\n",
    "a = [[-0.7,-0.7,0,0,0,0,0],[1,0,1,0,0,0,0],[-1,0,0,0,0.7,-0.7,0],[0,0,-1,0,0.86,0.5,0],[0,0,-0.5,0.86,0,0,-0.86],[0,0,0,0,0,1,-1]] \n",
    "a"
   ]
  },
  {
   "cell_type": "code",
   "execution_count": null,
   "id": "7e9ad106",
   "metadata": {},
   "outputs": [],
   "source": [
    "# then we have to change place of equation so digonals be largest values"
   ]
  },
  {
   "cell_type": "code",
   "execution_count": null,
   "id": "00905ebd",
   "metadata": {},
   "outputs": [],
   "source": [
    "#b = [F1, F2, F3, F4 , F5 , F6, F7]\n",
    "#b = [400, 0, 200, 0 , 0 , 0, 0]"
   ]
  },
  {
   "cell_type": "code",
   "execution_count": null,
   "id": "05ee121e",
   "metadata": {},
   "outputs": [],
   "source": [
    "# GUASS SAIDEL\n",
    "# Defining our function as seidel which takes 3 arguments\n",
    "# as A matrix, Solution and B matrix\n",
    "\n",
    "\n",
    "def seidel(a, x ,b):\n",
    "\t#Finding length of a(3)\t\n",
    "\tn = len(a)\t\t\t\t\n",
    "\t# for loop for 3 times as to calculate x, y , z\n",
    "\tfor j in range(0, n):\t\t\n",
    "\t\t# temp variable d to store b[j]\n",
    "\t\td = b[j]\t\t\t\t\n",
    "\t\t\n",
    "\t\t# to calculate respective xi, yi, zi\n",
    "\t\tfor i in range(0, n):\t\n",
    "\t\t\tif(j != i):\n",
    "\t\t\t\td-=a[j][i] * x[i]\n",
    "\t\t# updating the value of our solution\t\t\n",
    "\t\tx[j] = d / a[j][j]\n",
    "\t# returning our updated solution\t\t\n",
    "\treturn x\t\n",
    "\n",
    "# int(input())input as number of variable to be solved\t\t\t\t\n",
    "n = 3\t\t\t\t\t\t\t\n",
    "a = []\t\t\t\t\t\t\t\n",
    "b = []\t\t\n",
    "# initial solution depending on n(here n=3)\t\t\t\t\t\n",
    "x = [0, 0, 0, 0 , 0 , 0, 0]\t\t\t\t\t\t\n",
    "a = [[-0.7,-0.7,0,0,0,0,0],[1,0,1,0,0,0,0],[-1,0,0,0,0.7,-0.7,0],[0,0,-1,0,0.86,0.5,0],[0,0,-0.5,0.86,0,0,-0.86],[0,0,0,0,0,1,-1]] \n",
    "b = [400, 0, 200, 0 , 0 , 0, 0]\n",
    "\n",
    "#loop run for m times depending on m the error value\n",
    "for i in range(0, 25):\t\t\t\n",
    "\tx = seidel(a, x, b)\n",
    "\t#print each time the updated solution\n",
    "\tprint(x)\t\t\t\t\t\n"
   ]
  }
 ],
 "metadata": {
  "kernelspec": {
   "display_name": "Python 3 (ipykernel)",
   "language": "python",
   "name": "python3"
  },
  "language_info": {
   "codemirror_mode": {
    "name": "ipython",
    "version": 3
   },
   "file_extension": ".py",
   "mimetype": "text/x-python",
   "name": "python",
   "nbconvert_exporter": "python",
   "pygments_lexer": "ipython3",
   "version": "3.9.12"
  }
 },
 "nbformat": 4,
 "nbformat_minor": 5
}
